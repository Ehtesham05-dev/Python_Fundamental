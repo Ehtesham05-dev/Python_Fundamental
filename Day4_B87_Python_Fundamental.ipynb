{
 "cells": [
  {
   "cell_type": "code",
   "execution_count": null,
   "id": "8b5c3763-20a1-4982-93d4-1a2d0e0ad2bd",
   "metadata": {},
   "outputs": [],
   "source": [
    "#DataType:"
   ]
  },
  {
   "cell_type": "code",
   "execution_count": null,
   "id": "2b58bb6a-1929-4065-90b8-b0afab54e397",
   "metadata": {},
   "outputs": [],
   "source": [
    "#intro to Number Datatype"
   ]
  },
  {
   "cell_type": "code",
   "execution_count": 2,
   "id": "5aad0621-853e-4575-abc4-738fd43a57c3",
   "metadata": {},
   "outputs": [
    {
     "name": "stdout",
     "output_type": "stream",
     "text": [
      "12345\n"
     ]
    }
   ],
   "source": [
    "number=12345\n",
    "print(number)"
   ]
  },
  {
   "cell_type": "code",
   "execution_count": 3,
   "id": "4f7d6f3f-b24e-4019-97fc-8e97a6cbbf55",
   "metadata": {},
   "outputs": [
    {
     "data": {
      "text/plain": [
       "int"
      ]
     },
     "execution_count": 3,
     "metadata": {},
     "output_type": "execute_result"
    }
   ],
   "source": [
    "type(number)"
   ]
  },
  {
   "cell_type": "code",
   "execution_count": 4,
   "id": "80b98d99-1cba-4015-965b-041cd07c4747",
   "metadata": {},
   "outputs": [
    {
     "name": "stdout",
     "output_type": "stream",
     "text": [
      "0.123\n"
     ]
    }
   ],
   "source": [
    "num=0.123\n",
    "print(num)"
   ]
  },
  {
   "cell_type": "code",
   "execution_count": 5,
   "id": "99b0d8e0-3e8c-445d-ad58-a7cccb597520",
   "metadata": {},
   "outputs": [
    {
     "data": {
      "text/plain": [
       "float"
      ]
     },
     "execution_count": 5,
     "metadata": {},
     "output_type": "execute_result"
    }
   ],
   "source": [
    "type(num)"
   ]
  },
  {
   "cell_type": "code",
   "execution_count": null,
   "id": "5d616463-62f5-4ada-9938-62c85128330f",
   "metadata": {},
   "outputs": [],
   "source": [
    "#Intro to list data type:"
   ]
  },
  {
   "cell_type": "code",
   "execution_count": 6,
   "id": "08fede6f-fa7c-4d50-9662-ef55d3c7f47b",
   "metadata": {},
   "outputs": [
    {
     "name": "stdout",
     "output_type": "stream",
     "text": [
      "['January', 'February', 'March', 'April']\n"
     ]
    }
   ],
   "source": [
    "months =[ 'January', 'February', 'March', 'April']\n",
    "print(months)"
   ]
  },
  {
   "cell_type": "code",
   "execution_count": 7,
   "id": "0a826574-f792-4260-a054-861fd1b27020",
   "metadata": {},
   "outputs": [
    {
     "data": {
      "text/plain": [
       "list"
      ]
     },
     "execution_count": 7,
     "metadata": {},
     "output_type": "execute_result"
    }
   ],
   "source": [
    "type(months)"
   ]
  },
  {
   "cell_type": "code",
   "execution_count": null,
   "id": "3b6ce1c9-a8b2-49f8-9405-8b8b245616a8",
   "metadata": {},
   "outputs": [],
   "source": [
    "#To Print month name from list"
   ]
  },
  {
   "cell_type": "code",
   "execution_count": 9,
   "id": "662b09f4-1f94-4602-84c4-716b1d16fdca",
   "metadata": {},
   "outputs": [
    {
     "name": "stdout",
     "output_type": "stream",
     "text": [
      "March\n"
     ]
    }
   ],
   "source": [
    "print(months[2])"
   ]
  },
  {
   "cell_type": "code",
   "execution_count": 12,
   "id": "668f339f-219f-4ba6-bcd0-47703ba88e61",
   "metadata": {},
   "outputs": [
    {
     "name": "stdout",
     "output_type": "stream",
     "text": [
      "April\n"
     ]
    }
   ],
   "source": [
    "print(months[3].title())"
   ]
  },
  {
   "cell_type": "code",
   "execution_count": 13,
   "id": "7e096de5-1752-4dee-a2d9-05920a4cac29",
   "metadata": {},
   "outputs": [
    {
     "name": "stdout",
     "output_type": "stream",
     "text": [
      "['January', 'February', 'March', 'April', 'August']\n"
     ]
    }
   ],
   "source": [
    "months.append('August')\n",
    "print(months)"
   ]
  },
  {
   "cell_type": "code",
   "execution_count": null,
   "id": "d1d3343b-a353-48af-a106-83fa4c422561",
   "metadata": {},
   "outputs": [],
   "source": [
    "#to insert a name in the list at a position"
   ]
  },
  {
   "cell_type": "code",
   "execution_count": 17,
   "id": "c443eb67-c7f5-49ca-bb39-c2ca4713f8d7",
   "metadata": {},
   "outputs": [
    {
     "name": "stdout",
     "output_type": "stream",
     "text": [
      "['January', 'February', 'March', 'May', 'May', 'April', 'May', 'April', 'August']\n"
     ]
    }
   ],
   "source": [
    "months.insert(4,'May')\n",
    "print(months)"
   ]
  },
  {
   "cell_type": "code",
   "execution_count": null,
   "id": "8fe4790f-4255-407d-9824-0742887b148d",
   "metadata": {},
   "outputs": [],
   "source": [
    "#to Delete a name in the list"
   ]
  },
  {
   "cell_type": "code",
   "execution_count": 20,
   "id": "a1a8dd5c-25cc-46b5-891f-172bacbc1343",
   "metadata": {},
   "outputs": [
    {
     "name": "stdout",
     "output_type": "stream",
     "text": [
      "['January', 'February', 'March', 'May', 'April', 'April', 'August']\n"
     ]
    }
   ],
   "source": [
    "del months[5]\n",
    "print (months)"
   ]
  },
  {
   "cell_type": "code",
   "execution_count": null,
   "id": "5223572f-0835-4fc4-8744-3a05173d381a",
   "metadata": {},
   "outputs": [],
   "source": []
  }
 ],
 "metadata": {
  "kernelspec": {
   "display_name": "Python 3 (ipykernel)",
   "language": "python",
   "name": "python3"
  },
  "language_info": {
   "codemirror_mode": {
    "name": "ipython",
    "version": 3
   },
   "file_extension": ".py",
   "mimetype": "text/x-python",
   "name": "python",
   "nbconvert_exporter": "python",
   "pygments_lexer": "ipython3",
   "version": "3.13.5"
  }
 },
 "nbformat": 4,
 "nbformat_minor": 5
}
