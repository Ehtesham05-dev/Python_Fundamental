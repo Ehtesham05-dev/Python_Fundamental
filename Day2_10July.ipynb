{
 "cells": [
  {
   "cell_type": "code",
   "execution_count": null,
   "id": "c44a345c-0b34-482c-a247-3d84a1907124",
   "metadata": {},
   "outputs": [],
   "source": []
  },
  {
   "cell_type": "code",
   "execution_count": null,
   "id": "c53634c2-2a8a-4255-a739-c1992eb26f93",
   "metadata": {},
   "outputs": [],
   "source": []
  },
  {
   "cell_type": "code",
   "execution_count": null,
   "id": "3ec87136-dfa6-472a-9acd-2af0c01c7f80",
   "metadata": {},
   "outputs": [],
   "source": [
    "Intro to Promgramming"
   ]
  },
  {
   "cell_type": "code",
   "execution_count": 7,
   "id": "87b322a4-bfea-4f3a-87bb-75e42b94696d",
   "metadata": {},
   "outputs": [
    {
     "name": "stdout",
     "output_type": "stream",
     "text": [
      "5\n"
     ]
    }
   ],
   "source": [
    "x=2\n",
    "y=3\n",
    "z=x+y\n",
    "print(z)"
   ]
  },
  {
   "cell_type": "code",
   "execution_count": 10,
   "id": "b46d7754-e71c-4214-a928-5940b6ce81a5",
   "metadata": {},
   "outputs": [
    {
     "name": "stdout",
     "output_type": "stream",
     "text": [
      "Ehtesham\n"
     ]
    }
   ],
   "source": [
    "name= 'Ehtesham'\n",
    "print (name)"
   ]
  },
  {
   "cell_type": "code",
   "execution_count": 11,
   "id": "b52546fe-b17c-408b-b5bb-9724e5b27ef3",
   "metadata": {},
   "outputs": [
    {
     "name": "stdout",
     "output_type": "stream",
     "text": [
      "Python\n"
     ]
    }
   ],
   "source": [
    "name=\"Python\"\n",
    "print(name)"
   ]
  },
  {
   "cell_type": "code",
   "execution_count": 12,
   "id": "0614a252-a2a9-4fb6-81e8-dafe65724aaf",
   "metadata": {},
   "outputs": [
    {
     "data": {
      "text/plain": [
       "str"
      ]
     },
     "execution_count": 12,
     "metadata": {},
     "output_type": "execute_result"
    }
   ],
   "source": [
    "name= \"Customer\"\n",
    "type(name)"
   ]
  },
  {
   "cell_type": "markdown",
   "id": "0c51c259-996c-4006-b186-ea4f3d9523da",
   "metadata": {},
   "source": [
    "number=123456\n",
    "type(number)"
   ]
  },
  {
   "cell_type": "code",
   "execution_count": null,
   "id": "855979b1-f33d-4907-aac5-804a84a8a1a1",
   "metadata": {},
   "outputs": [],
   "source": [
    "float"
   ]
  },
  {
   "cell_type": "code",
   "execution_count": 15,
   "id": "0594a5af-c68b-4a51-a9e9-679ee39b2a08",
   "metadata": {},
   "outputs": [
    {
     "name": "stdout",
     "output_type": "stream",
     "text": [
      "Practice Class\n",
      "Practice Class\n",
      "PRACTICE CLASS\n",
      "practice class\n"
     ]
    }
   ],
   "source": [
    "statement=\"Practice Class\"\n",
    "print(statement)\n",
    "print(statement.title())\n",
    "print(statement.upper())\n",
    "print(statement.lower())"
   ]
  },
  {
   "cell_type": "code",
   "execution_count": null,
   "id": "a97a6c46-7e9b-4546-88bd-712633982a59",
   "metadata": {},
   "outputs": [],
   "source": []
  }
 ],
 "metadata": {
  "kernelspec": {
   "display_name": "Python 3 (ipykernel)",
   "language": "python",
   "name": "python3"
  },
  "language_info": {
   "codemirror_mode": {
    "name": "ipython",
    "version": 3
   },
   "file_extension": ".py",
   "mimetype": "text/x-python",
   "name": "python",
   "nbconvert_exporter": "python",
   "pygments_lexer": "ipython3",
   "version": "3.13.5"
  }
 },
 "nbformat": 4,
 "nbformat_minor": 5
}
