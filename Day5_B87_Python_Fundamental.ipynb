{
 "cells": [
  {
   "cell_type": "code",
   "execution_count": null,
   "id": "b260353b-38f8-4ddc-9cfd-7b9f7c961ed7",
   "metadata": {},
   "outputs": [],
   "source": [
    "#Organization list data type:"
   ]
  },
  {
   "cell_type": "code",
   "execution_count": 7,
   "id": "39f726ce-fb4f-474c-9b7c-aae7ef88b165",
   "metadata": {},
   "outputs": [
    {
     "name": "stdout",
     "output_type": "stream",
     "text": [
      "['bmw', 'tata', 'toyta', 'benz', 'suzuki', 'audit']\n"
     ]
    }
   ],
   "source": [
    "cars = ['bmw', 'tata', 'toyta', 'benz', 'suzuki', 'audit']\n",
    "print(cars)"
   ]
  },
  {
   "cell_type": "code",
   "execution_count": 4,
   "id": "a3af5e58-22fb-4a99-8090-001ca051fcfb",
   "metadata": {},
   "outputs": [
    {
     "data": {
      "text/plain": [
       "list"
      ]
     },
     "execution_count": 4,
     "metadata": {},
     "output_type": "execute_result"
    }
   ],
   "source": [
    "type(cars)"
   ]
  },
  {
   "cell_type": "code",
   "execution_count": null,
   "id": "c23b386b-8a71-4e66-877e-47cf1d05ef40",
   "metadata": {},
   "outputs": [],
   "source": []
  },
  {
   "cell_type": "code",
   "execution_count": null,
   "id": "8970917d-17ee-4c39-83c7-29ae210b372a",
   "metadata": {},
   "outputs": [],
   "source": [
    "#req:Organization the list in alphabetical order (A-Z, a-z)"
   ]
  },
  {
   "cell_type": "code",
   "execution_count": 8,
   "id": "555db518-3957-4267-aaed-feb8413e9d60",
   "metadata": {},
   "outputs": [
    {
     "name": "stdout",
     "output_type": "stream",
     "text": [
      "['audit', 'benz', 'bmw', 'suzuki', 'tata', 'toyta']\n"
     ]
    }
   ],
   "source": [
    "print(sorted(cars)) #sorted is temporary approach"
   ]
  },
  {
   "cell_type": "code",
   "execution_count": 9,
   "id": "8bdc7a70-23de-4406-9855-701ef3f61085",
   "metadata": {},
   "outputs": [
    {
     "name": "stdout",
     "output_type": "stream",
     "text": [
      "['bmw', 'tata', 'toyta', 'benz', 'suzuki', 'audit']\n"
     ]
    }
   ],
   "source": [
    "print(cars)"
   ]
  },
  {
   "cell_type": "code",
   "execution_count": 11,
   "id": "bb7619bf-4805-46ac-951b-1e6f12a24837",
   "metadata": {},
   "outputs": [],
   "source": [
    "cars.sort() #sort is a permanent Approach"
   ]
  },
  {
   "cell_type": "code",
   "execution_count": 12,
   "id": "fb3cf404-2477-4ce1-8914-852b4498a73a",
   "metadata": {},
   "outputs": [
    {
     "name": "stdout",
     "output_type": "stream",
     "text": [
      "['audit', 'benz', 'bmw', 'suzuki', 'tata', 'toyta']\n"
     ]
    }
   ],
   "source": [
    "print(cars)"
   ]
  },
  {
   "cell_type": "code",
   "execution_count": null,
   "id": "04f86b96-8cf9-4968-a9ff-4ef1a074926d",
   "metadata": {},
   "outputs": [],
   "source": []
  },
  {
   "cell_type": "code",
   "execution_count": null,
   "id": "7fe05cb2-cf96-47b7-8a99-d0f5bedb1abf",
   "metadata": {},
   "outputs": [],
   "source": [
    "#To Print the elements list in reverse order"
   ]
  },
  {
   "cell_type": "code",
   "execution_count": 14,
   "id": "9ad2173d-27da-4394-bbac-5724bee5825d",
   "metadata": {},
   "outputs": [],
   "source": [
    "cars.reverse()"
   ]
  },
  {
   "cell_type": "code",
   "execution_count": 15,
   "id": "734374b1-5c9a-4d94-8153-56b4abe0b589",
   "metadata": {},
   "outputs": [
    {
     "name": "stdout",
     "output_type": "stream",
     "text": [
      "['toyta', 'tata', 'suzuki', 'bmw', 'benz', 'audit']\n"
     ]
    }
   ],
   "source": [
    "print(cars)"
   ]
  },
  {
   "cell_type": "code",
   "execution_count": null,
   "id": "4c5398ac-dad2-47db-8743-72cca6126919",
   "metadata": {},
   "outputs": [],
   "source": []
  },
  {
   "cell_type": "code",
   "execution_count": null,
   "id": "71bb4da9-9da2-4ade-95f8-7076b72d5825",
   "metadata": {},
   "outputs": [],
   "source": [
    "# To know the count of elements in list"
   ]
  },
  {
   "cell_type": "code",
   "execution_count": 16,
   "id": "6b589134-4a30-47b9-83d3-1daca6b45190",
   "metadata": {},
   "outputs": [
    {
     "data": {
      "text/plain": [
       "6"
      ]
     },
     "execution_count": 16,
     "metadata": {},
     "output_type": "execute_result"
    }
   ],
   "source": [
    "len(cars)"
   ]
  },
  {
   "cell_type": "code",
   "execution_count": null,
   "id": "42b8c9e0-083e-4380-a4f6-93ae7a322efa",
   "metadata": {},
   "outputs": [],
   "source": []
  },
  {
   "cell_type": "code",
   "execution_count": null,
   "id": "a8eaae35-cd27-46a9-96db-9f1263d16315",
   "metadata": {},
   "outputs": [],
   "source": [
    "#intro to slicing"
   ]
  },
  {
   "cell_type": "code",
   "execution_count": 23,
   "id": "897b1701-b995-4c4f-8de5-78b5ec3f2e7e",
   "metadata": {},
   "outputs": [
    {
     "name": "stdout",
     "output_type": "stream",
     "text": [
      "['January', 'February', 'March', 'April', 'May', 'June', 'July']\n"
     ]
    }
   ],
   "source": [
    "months = ['January', 'February', 'March', 'April', 'May', 'June', 'July']\n",
    "print(months)"
   ]
  },
  {
   "cell_type": "code",
   "execution_count": null,
   "id": "e3a5c312-8c90-4330-bc31-c413e88de988",
   "metadata": {},
   "outputs": [],
   "source": []
  },
  {
   "cell_type": "code",
   "execution_count": null,
   "id": "0b9adf2c-3988-47c2-abe9-2f9cb4381ac4",
   "metadata": {},
   "outputs": [],
   "source": [
    "#Syntax for licing"
   ]
  },
  {
   "cell_type": "code",
   "execution_count": 25,
   "id": "ee246fc9-410a-4369-9ce4-5d8513569d1b",
   "metadata": {},
   "outputs": [
    {
     "name": "stdout",
     "output_type": "stream",
     "text": [
      "['January', 'February', 'March', 'April']\n"
     ]
    }
   ],
   "source": [
    "print(months[0:4])"
   ]
  },
  {
   "cell_type": "code",
   "execution_count": 26,
   "id": "edc1937b-1f19-4854-8bc4-ecb6161593c2",
   "metadata": {},
   "outputs": [
    {
     "name": "stdout",
     "output_type": "stream",
     "text": [
      "['March', 'April', 'May']\n"
     ]
    }
   ],
   "source": [
    "print(months[2:5])"
   ]
  },
  {
   "cell_type": "code",
   "execution_count": null,
   "id": "af23a266-4841-421d-a411-00ef946264ba",
   "metadata": {},
   "outputs": [],
   "source": []
  },
  {
   "cell_type": "code",
   "execution_count": null,
   "id": "f3b0d10d-c7a0-483b-974f-941b17fdf0c7",
   "metadata": {},
   "outputs": [],
   "source": [
    "#to get names alternatively"
   ]
  },
  {
   "cell_type": "code",
   "execution_count": 27,
   "id": "7850ece1-f77b-4495-b481-c6499d96efbf",
   "metadata": {},
   "outputs": [
    {
     "name": "stdout",
     "output_type": "stream",
     "text": [
      "['February', 'April']\n"
     ]
    }
   ],
   "source": [
    "print(months[1:4:2])"
   ]
  },
  {
   "cell_type": "code",
   "execution_count": null,
   "id": "8a33cce9-b6ad-4dcc-b549-b69fbbd034f4",
   "metadata": {},
   "outputs": [],
   "source": []
  },
  {
   "cell_type": "code",
   "execution_count": null,
   "id": "b62075a6-80c4-447b-84c7-1f93dd67e1a8",
   "metadata": {},
   "outputs": [],
   "source": [
    "#tuple datatype"
   ]
  },
  {
   "cell_type": "code",
   "execution_count": 28,
   "id": "8ae5a7db-66d9-465e-9c51-5c5a7e302a3b",
   "metadata": {},
   "outputs": [],
   "source": [
    "data = (20, 30)"
   ]
  },
  {
   "cell_type": "code",
   "execution_count": 29,
   "id": "14c05985-1027-4328-a31a-44efc11b4efa",
   "metadata": {},
   "outputs": [
    {
     "name": "stdout",
     "output_type": "stream",
     "text": [
      "(20, 30)\n"
     ]
    }
   ],
   "source": [
    "print (data)"
   ]
  },
  {
   "cell_type": "code",
   "execution_count": 30,
   "id": "bd927c21-a45b-4e3e-a00c-5f0a0dcfc03a",
   "metadata": {},
   "outputs": [
    {
     "data": {
      "text/plain": [
       "tuple"
      ]
     },
     "execution_count": 30,
     "metadata": {},
     "output_type": "execute_result"
    }
   ],
   "source": [
    "type(data)"
   ]
  },
  {
   "cell_type": "code",
   "execution_count": null,
   "id": "db9ab111-95dd-44d7-b713-2534a8402152",
   "metadata": {},
   "outputs": [],
   "source": []
  }
 ],
 "metadata": {
  "kernelspec": {
   "display_name": "Python 3 (ipykernel)",
   "language": "python",
   "name": "python3"
  },
  "language_info": {
   "codemirror_mode": {
    "name": "ipython",
    "version": 3
   },
   "file_extension": ".py",
   "mimetype": "text/x-python",
   "name": "python",
   "nbconvert_exporter": "python",
   "pygments_lexer": "ipython3",
   "version": "3.13.5"
  }
 },
 "nbformat": 4,
 "nbformat_minor": 5
}
